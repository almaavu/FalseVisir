{
 "cells": [
  {
   "cell_type": "code",
   "execution_count": null,
   "metadata": {},
   "outputs": [],
   "source": [
    "from falsevisir import *\n",
    "\n",
    "im_paths = \"samples/vis_image.jpg\", \"samples/ir_image.jpg\"\n",
    "\n",
    "im_paths = [Path(fp) for fp in im_paths]\n",
    "vi_path, ir_path = im_paths\n",
    "\n",
    "#%% Load images\n",
    "vi_image, ir_image = [load_image(fp) for fp in im_paths]\n",
    "\n",
    "print(info(vi_image))\n",
    "print(info(ir_image))\n",
    "show_images((vi_image, ir_image))"
   ]
  },
  {
   "cell_type": "code",
   "execution_count": null,
   "metadata": {},
   "outputs": [],
   "source": [
    "#%% Resize to same height\n",
    "vi_image, ir_image = resize_images((vi_image, ir_image))\n",
    "\n",
    "print(info(vi_image))\n",
    "print(info(ir_image))\n",
    "show_images((vi_image, ir_image))"
   ]
  },
  {
   "cell_type": "code",
   "execution_count": null,
   "metadata": {},
   "outputs": [],
   "source": [
    "#%% Warp images\n",
    "vi_image, ir_image = warp_images(vi_image, ir_image)\n",
    "\n",
    "print(info(vi_image))\n",
    "print(info(ir_image))\n",
    "show_images((vi_image, ir_image))"
   ]
  },
  {
   "cell_type": "code",
   "execution_count": null,
   "metadata": {},
   "outputs": [],
   "source": [
    "#%% Blend images\n",
    "blend_im = blend_image(vi_image, ir_image, weight=.5)\n",
    "print(info(blend_im))\n",
    "\n",
    "#%% False color image\n",
    "false_im = false_image(vi_image, ir_image)\n",
    "print(info(false_im))\n",
    "\n",
    "#%% Show results\n",
    "show_images((vi_image, ir_image, blend_im, false_im), labels=(\"VIS\", \"IR\", \"BLEND\", \"FALSE_COLOR\"))"
   ]
  },
  {
   "cell_type": "code",
   "execution_count": null,
   "metadata": {},
   "outputs": [],
   "source": [
    "#%% Save results\n",
    "\n",
    "dst_dir = vi_path.parent / f\"false_color_images\"\n",
    "dst_dir.mkdir(exist_ok=True)\n",
    "\n",
    "# Warped images\n",
    "save_image(dst_dir / f\"{ir_path.stem}_{vi_path.stem}_vi_warp.png\", vi_image)\n",
    "save_image(dst_dir / f\"{ir_path.stem}_{vi_path.stem}_ir_warp.png\", ir_image)\n",
    "\n",
    "# Blended images\n",
    "save_image(dst_dir / f\"{ir_path.stem}_{vi_path.stem}_blend.png\", blend_im)\n",
    "save_image(dst_dir / f\"{ir_path.stem}_{vi_path.stem}_falsecolor.png\", false_im)\n",
    "\n"
   ]
  },
  {
   "cell_type": "code",
   "execution_count": null,
   "metadata": {},
   "outputs": [],
   "source": []
  }
 ],
 "metadata": {
  "kernelspec": {
   "display_name": "Python 3",
   "language": "python",
   "name": "python3"
  },
  "language_info": {
   "codemirror_mode": {
    "name": "ipython",
    "version": 3
   },
   "file_extension": ".py",
   "mimetype": "text/x-python",
   "name": "python",
   "nbconvert_exporter": "python",
   "pygments_lexer": "ipython3",
   "version": "3.8.10"
  }
 },
 "nbformat": 4,
 "nbformat_minor": 4
}
