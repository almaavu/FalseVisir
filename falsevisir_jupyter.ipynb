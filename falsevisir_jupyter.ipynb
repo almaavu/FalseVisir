{
 "cells": [
  {
   "cell_type": "code",
   "execution_count": null,
   "metadata": {
    "scrolled": true
   },
   "outputs": [],
   "source": [
    "'''\n",
    "FalseVisir - create false color image from visible and infrared image.\n",
    "- interactive version, usefull to try different parameters\n",
    "\n",
    "'''\n",
    "\n",
    "from falsevisir import *\n",
    "from pprint import pprint\n",
    "from config import CFG\n",
    "\n",
    "# Change settings\n",
    "CFG['preprocess_images']['blur_sigma'] = 1\n",
    "CFG['downsize'] = 400\n",
    "CFG['extract_features']['patch_size'] = CFG['downsize'] // 8\n",
    "\n",
    "# Load images\n",
    "im_paths = \"samples/vis_samples/a002_palette.jpg\", \"samples/ir_samples/a002_s002__TL.jpg\"\n",
    "vi_path, ir_path = [Path(fp) for fp in im_paths]\n",
    "\n",
    "vi_image, ir_image = [load_image(fp) for fp in (vi_path, ir_path)]\n",
    "print(\"-------------------- Loaded images --------------------\")\n",
    "print(info(vi_image))\n",
    "print(info(ir_image))\n",
    "show_images((vi_image, ir_image))\n",
    "\n",
    "# Resize to same height\n",
    "vi_image, ir_image = resize_images((vi_image, ir_image))\n",
    "print(\"-------------------- Resized images --------------------\")\n",
    "print(info(vi_image))\n",
    "print(info(ir_image))\n",
    "show_images((vi_image, ir_image))\n",
    "\n",
    "print(\"-------------------- Config --------------------\")\n",
    "pprint(CFG)"
   ]
  },
  {
   "cell_type": "code",
   "execution_count": null,
   "metadata": {
    "scrolled": false
   },
   "outputs": [],
   "source": [
    "''' Find features with edge detection '''\n",
    "\n",
    "CFG['preprocess_images']['edge'] = 1\n",
    "CFG['preprocess_images']['normalize'] = 1\n",
    "CFG['preprocess_images']['blur_sigma'] = 2\n",
    "CFG['preprocess_images']['equalize'] = 0\n",
    "\n",
    "#%% Warp images\n",
    "vi_image_w, ir_image_w = warp_images(vi_image, ir_image, cfg, show=True)"
   ]
  },
  {
   "cell_type": "code",
   "execution_count": null,
   "metadata": {
    "scrolled": false
   },
   "outputs": [],
   "source": [
    "''' Find features without edge detection '''\n",
    "\n",
    "CFG['preprocess_images']['edge'] = 0\n",
    "CFG['preprocess_images']['normalize'] = 0\n",
    "CFG['preprocess_images']['blur_sigma'] = 1\n",
    "CFG['preprocess_images']['equalize'] = 0\n",
    "\n",
    "\n",
    "#%% Warp images\n",
    "vi_image_w, ir_image_w = warp_images(vi_image, ir_image, cfg, show=True)"
   ]
  },
  {
   "cell_type": "code",
   "execution_count": null,
   "metadata": {
    "scrolled": true
   },
   "outputs": [],
   "source": [
    "#%% Blend images\n",
    "blend_im = blend_image(vi_image_w, ir_image_w, weight=.5)\n",
    "print(info(blend_im))\n",
    "\n",
    "#%% False color image\n",
    "false_im = false_image(vi_image_w, ir_image_w)\n",
    "print(info(false_im))\n",
    "\n",
    "#%% Show results\n",
    "show_images((vi_image_w, ir_image_w, blend_im, false_im), labels=(\"VIS\", \"IR\", \"BLEND\", \"FALSE_COLOR\"))"
   ]
  },
  {
   "cell_type": "code",
   "execution_count": null,
   "metadata": {
    "scrolled": true
   },
   "outputs": [],
   "source": [
    "#%% Save results\n",
    "\n",
    "dst_dir = vi_path.parent / f\"false_color_images\"\n",
    "dst_dir.mkdir(exist_ok=True)\n",
    "\n",
    "# Warped images\n",
    "save_image(dst_dir / f\"{ir_path.stem}_{vi_path.stem}_vi_warp.png\", vi_image_w)\n",
    "save_image(dst_dir / f\"{ir_path.stem}_{vi_path.stem}_ir_warp.png\", ir_image_w)\n",
    "\n",
    "# Blended images\n",
    "save_image(dst_dir / f\"{ir_path.stem}_{vi_path.stem}_blend.png\", blend_im)\n",
    "save_image(dst_dir / f\"{ir_path.stem}_{vi_path.stem}_falsecolor.png\", false_im)\n",
    "\n"
   ]
  },
  {
   "cell_type": "code",
   "execution_count": null,
   "metadata": {
    "scrolled": true
   },
   "outputs": [],
   "source": [
    "for ch in range(3):\n",
    "    save_image(dst_dir / f\"{ir_path.stem}_{vi_path.stem}_vi_warp_{ch}.png\", vi_image_w[:,:,ch])"
   ]
  },
  {
   "cell_type": "code",
   "execution_count": null,
   "metadata": {
    "scrolled": true
   },
   "outputs": [],
   "source": []
  }
 ],
 "metadata": {
  "kernelspec": {
   "display_name": "Python 3",
   "language": "python",
   "name": "python3"
  },
  "language_info": {
   "codemirror_mode": {
    "name": "ipython",
    "version": 3
   },
   "file_extension": ".py",
   "mimetype": "text/x-python",
   "name": "python",
   "nbconvert_exporter": "python",
   "pygments_lexer": "ipython3",
   "version": "3.8.10"
  }
 },
 "nbformat": 4,
 "nbformat_minor": 4
}
